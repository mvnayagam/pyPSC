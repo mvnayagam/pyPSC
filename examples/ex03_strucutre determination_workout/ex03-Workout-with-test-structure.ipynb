{
 "cells": [
  {
   "cell_type": "markdown",
   "metadata": {
    "slideshow": {
     "slide_type": "slide"
    }
   },
   "source": [
    "# Linearization and intersection in parameter space concept\n",
    "<br>This example provides basic idea of how **````linearization````** and **````intersection````** steps are done with PSC.<br>\n",
    "The structure parameter **coordinate** is defined to have four atomic coordinates *i.e.* the example uses <br>\n",
    "four dimensional parameter space. To be simple the EPA framework with amplitude approach is used.<br><br>\n",
    "\n",
    "\n",
    "1. [Linearization](#Linearization) cell calculates the magnitude of intensity for the given structure (<span style=\"color:red\">***coordinate***</span>) <br>  and verifies the linearization os isosurface by invoking *checklinear* routine which uses the grid-based method \n",
    "2. [Finding intersection](#finding) cell take the polytope from [Linearization](#Linearization) cell and finds the common solution region between the polytope corresponding to different reflection **h**\n",
    "3. [Writing data](#write) cell writes all simulated data from [Finding intersection](#finding) cell in a ***.h5*** formatted file\n",
    "4. [Possible solution regions](#centroid) The exact polytope should contain the given coordinate. However, in [Finding intersection](#finding) routine, the PSC finding the exact solution region along with<br> all pseudo solutions for the given <span style=\"color:red\">***coordinate***</span> <br><br>\n",
    "\n",
    "\n",
    "<mark> User friendly and better examples are in Ex01 and Ex02 <mark>"
   ]
  },
  {
   "cell_type": "markdown",
   "metadata": {},
   "source": [
    "## <font color = 'green'> **Importing modules**"
   ]
  },
  {
   "cell_type": "code",
   "execution_count": 1,
   "metadata": {},
   "outputs": [],
   "source": [
    "%matplotlib widget\n",
    "\n",
    "import warnings\n",
    "warnings.filterwarnings('ignore')\n",
    "\n",
    "import os\n",
    "import time\n",
    "import numpy as np\n",
    "import polytope as pc\n",
    "\n",
    "\n",
    "from psc.lib.g_space import g\n",
    "\n",
    "from psc.lib.x3DlinearizationEPA import linearizenD_EPA\n",
    "from psc.lib.x3Drepetition import getpolytope_EPA  \n",
    "from psc.lib.x3Dchecklinearization import checklinear\n",
    "from psc.lib.x3Dintersection import find_intersection\n",
    "from psc.lib.x3Dreadwrite import wrtdata\n",
    "\n",
    "from psc.lib.xlinearizationtools import radius_from_volume"
   ]
  },
  {
   "cell_type": "markdown",
   "metadata": {},
   "source": [
    "## <font color = 'green'> **Example coordinate**"
   ]
  },
  {
   "cell_type": "markdown",
   "metadata": {},
   "source": [
    "### Linearization"
   ]
  },
  {
   "cell_type": "code",
   "execution_count": 2,
   "metadata": {},
   "outputs": [
    {
     "name": "stdout",
     "output_type": "stream",
     "text": [
      "Assumed coordinate :  [0.3385 0.3385 0.151  0.138 ]\n",
      "\u001b[1;32m--> Polytope contains complete isosurface. Successful Linearization for \u001b[1;31mRO = 1\u001b[0m\n",
      "===> Time taken for RO 1 is 0.04407334327697754 sec.\n"
     ]
    },
    {
     "name": "stderr",
     "output_type": "stream",
     "text": [
      "c:\\Users\\pearl\\Desktop\\2021_Freiberg\\psc\\lib\\g_space.py:64: RuntimeWarning: invalid value encountered in arccos\n",
      "  xj = (np.arccos(argm))/k\n"
     ]
    },
    {
     "name": "stdout",
     "output_type": "stream",
     "text": [
      "\u001b[1;32m--> Polytope contains complete isosurface. Successful Linearization for \u001b[1;31mRO = 1\u001b[0m\n",
      "\u001b[1;32m--> Polytope contains complete isosurface. Successful Linearization for \u001b[1;31mRO = 2\u001b[0m\n",
      "===> Time taken for RO 2 is 1.3480448722839355 sec.\n",
      "\u001b[1;32m--> Polytope contains complete isosurface. Successful Linearization for \u001b[1;31mRO = 2\u001b[0m\n",
      "\u001b[1;32m--> Polytope contains complete isosurface. Successful Linearization for \u001b[1;31mRO = 3\u001b[0m\n",
      "===> Time taken for RO 3 is 2.0334668159484863 sec.\n",
      "\u001b[1;32m--> Polytope contains complete isosurface. Successful Linearization for \u001b[1;31mRO = 3\u001b[0m\n",
      "isotype 1\n",
      "===> Time taken for RO 4 is 6.48685622215271 sec.\n",
      "\u001b[1;32m--> Polytope contains complete isosurface. Successful Linearization for \u001b[1;31mRO = 4\u001b[0m\n"
     ]
    }
   ],
   "source": [
    "# ------------------------------------------------------------------------------------------------\n",
    "# --->  Generate required information such as atomic coordinate to be solved\n",
    "#       artificial atomic scattering factors. 'j' fixes the direction of third atomic coordinate\n",
    "# ------------------------------------------------------------------------------------------------\n",
    "\n",
    "coordinate = np.array([0.349, 0.362, 0.1615, 0.1615])\n",
    "f    = [1.0]*len(coordinate)\n",
    "j    = len(coordinate)-1\n",
    "\n",
    "\n",
    "# ------------------------------------------------------------------------------------------------\n",
    "# ---> Apply origin fixing rule. The origin is always fixed at [0, 0, ....]\n",
    "# ------------------------------------------------------------------------------------------------\n",
    "l = 1\n",
    "coordinate = np.sort(coordinate)[::-1]  if (np.sign(g(l, coordinate, f))>0) else np.sort(0.5-coordinate)[::-1]\n",
    "\n",
    "# ------------------------------------------------------------------------------------------------\n",
    "# ---> Start to solve given atomic structure using first 4 number of reflections\n",
    "# ------------------------------------------------------------------------------------------------\n",
    "\n",
    "h  = 4\n",
    "info, plist = [], []\n",
    "IorG='intensity'\n",
    "print(\"Assumed coordinate : \", coordinate)\n",
    "\n",
    "for l in range(1,h+1):\n",
    "        \n",
    "    # ===> 1. initilization\n",
    "    k  = 2*np.pi*l\n",
    "    gi = np.abs(g(l, coordinate, f))\n",
    "    amplitudesign = np.sign(g(l, coordinate, f))\n",
    "    \n",
    "    # ===> 2. linearization\n",
    "    normal, distance, boundarypoints = linearizenD_EPA(l, f, gi)\n",
    "    \n",
    "    ST = time.time()\n",
    "    # ===> 3. get all polytope\n",
    "    p = getpolytope_EPA( l, normal, distance, amplitudesign, IorG, imax=0.5)\n",
    "    plist.append(p)\n",
    "    ET = time.time()\n",
    "    print(f'===> Time taken for RO {l} is {ET-ST} sec.')\n",
    "    info.append([l, normal, distance])\n",
    "    \n",
    "    # ===> 4. check linearization\n",
    "    checklinear(l, f, gi, normal, distance, j=len(f)-1, n=50, s=1, testiso=True)\n",
    "###\n"
   ]
  },
  {
   "cell_type": "markdown",
   "metadata": {},
   "source": [
    "### <a id=\"finding\"></a>Finding intersection"
   ]
  },
  {
   "cell_type": "code",
   "execution_count": 3,
   "metadata": {},
   "outputs": [
    {
     "name": "stdout",
     "output_type": "stream",
     "text": [
      "===> RO is  1  The len of polytope region before reduction :  1  after reduction : 1 1\n",
      "===> RO is  2  The len of polytope region before reduction :  32  after reduction : 10 2\n",
      "===> RO is  3  The len of polytope region before reduction :  162  after reduction : 30 3\n",
      "===> RO is  4  The len of polytope region before reduction :  512  after reduction : 70 4\n",
      "\u001b[0;32m===> intersection for RO : 1   \u001b[0mlen(solution) : 1 and container len 1\n",
      "\u001b[0;32m===> intersection for RO : 2   \u001b[0mlen(solution) : 5 and container len 2\n",
      "\u001b[0;32m===> intersection for RO : 3   \u001b[0mlen(solution) : 31 and container len 3\n",
      "\u001b[0;32m===> intersection for RO : 4   \u001b[0mlen(solution) : 19 and container len 4\n",
      "\n",
      "===>\u001b[1;31m Variable \u001b[1;3;32msolution\u001b[0m\u001b[1;31m contains the intersection results\n"
     ]
    }
   ],
   "source": [
    "'''\n",
    "Defining Asym and reduce no. of polytopes in the polytope list for each reflection order\n",
    "condition: the polytope list must contain first order reflection info.\n",
    "\n",
    "what if it is starts with other reflection order ?\n",
    "'''\n",
    "\n",
    "# Reducing the polytopes\n",
    "\n",
    "temp = np.tril(np.ones(shape=(len(f), len(f))) , 0 )\n",
    "temp = 0.5*np.vstack([[0]*len(normal), temp])\n",
    "asym = pc.qhull(np.array(temp))\n",
    "\n",
    "plistr=[]\n",
    "for i in range(len(plist)):\n",
    "    r = []\n",
    "    for ij in plist[i]:\n",
    "        if ij.intersect(asym):\n",
    "            r.append(ij)\n",
    "    plistr.append(r)\n",
    "    print(\"===> RO is \",i+1,\" The len of polytope region before reduction : \",len(plist[i]),\" after reduction :\", len(r), len(plistr))\n",
    "\n",
    "\n",
    "# finding intersection\n",
    "\n",
    "solution = []\n",
    "for inx, ply in enumerate(plistr):\n",
    "    print(\"\\x1b[0;32m===> intersection for RO : %g\"%(inx+1), end=\"   \\x1b[0m\")\n",
    "    if inx==0:\n",
    "        sf = pc.Region([asym.intersect(ply[0])]) # plistr[inx][0] = ply[0]\n",
    "        solution.append(sf)\n",
    "        print(f\"len(solution) : {len(sf)} and container len {len(solution)}\")\n",
    "    else:\n",
    "        tmp= find_intersection(solution[-1], pc.Region(ply))\n",
    "        solution.append(tmp)\n",
    "        print(f\"len(solution) : {len(tmp)} and container len {len(solution)}\")\n",
    "\n",
    "print(\"\\n===>\\x1b[1;31m Variable \\x1b[1;3;32msolution\\x1b[0m\\x1b[1;31m contains the intersection results\")"
   ]
  },
  {
   "cell_type": "markdown",
   "metadata": {},
   "source": [
    "### <a id='write'></a> Writing data in h5 file"
   ]
  },
  {
   "cell_type": "code",
   "execution_count": 13,
   "metadata": {},
   "outputs": [
    {
     "name": "stdout",
     "output_type": "stream",
     "text": [
      "===> removed file c:\\Users\\pearl\\Desktop\\2021_Freiberg\\resultfile_4.h5\n",
      "===> Data is written in c:\\Users\\pearl\\Desktop\\2021_Freiberg\\resultfile_4.h5\n"
     ]
    }
   ],
   "source": [
    "'''\n",
    "This section creates hdf file and writes the available information. Current stand takes only one\n",
    "solution. another for loop is to be added if all RO intersection information is to be written.\n",
    "'''\n",
    "\n",
    "# creating file and writing information ! <-- variable names should be regularized, not compatible with readwrite.py\n",
    "\n",
    "fpath   = os.path.join(os.getcwd())\n",
    "fn = os.path.join(fpath,'resultfile_%g.h5'%(h))\n",
    "\n",
    "if os.path.isfile(fn):\n",
    "    os.remove(fn)\n",
    "    print(f\"===> removed file {fn}\")\n",
    "\n",
    "total_solNr=len(solution[-1])\n",
    "allsolutions=solution[-1]\n",
    "\n",
    "for jj, i in enumerate(solution[-1]):\n",
    "    if coordinate in i:\n",
    "        rc = 0\n",
    "        xg = np.mean(pc.extreme(i), axis=0)\n",
    "        volume = pc.volume(i)\n",
    "        \n",
    "        extremepnts = pc.extreme(i)\n",
    "        dmax = np.max(extremepnts, axis=0)\n",
    "        dmin = np.min(extremepnts, axis=0)\n",
    "        err  = np.abs(dmax-dmin)/2\n",
    "        final = i\n",
    "        \n",
    "        volAsym = volume\n",
    "        Lsol=len(solution[-1])\n",
    "        grandradius=radius_from_volume(len(coordinate), volAsym)\n",
    "\n",
    "localmat = pc.extreme(final) ; m = np.mean(localmat,0)\n",
    "solution_error  = np.abs(np.max(localmat, axis=0) - np.min(localmat, axis=0))\n",
    "solution_center = np.mean(localmat, 0)\n",
    "solution_volume = pc.volume(final)\n",
    "\n",
    "wrtdata(pair_inx=rc, fname=fn, solution=m, solution_polytope=final, solution_volume=solution_volume, solution_error=solution_error, solution_extremepnts=localmat, vol_in_Asym=volAsym, grandradius=grandradius , total_solNr=total_solNr, allsolutions=rc)\n",
    "\n",
    "print(f\"===> Data is written in {fn}\")\n"
   ]
  },
  {
   "cell_type": "markdown",
   "metadata": {},
   "source": [
    "### <a id='centroid'></a> Possible solutions and centroid of structure containing polytope"
   ]
  },
  {
   "cell_type": "code",
   "execution_count": 12,
   "metadata": {},
   "outputs": [
    {
     "name": "stdout",
     "output_type": "stream",
     "text": [
      "[0.49977095 0.26651426 0.07529377 0.02509792] 0 False\n",
      "[0.47495223 0.26958918 0.2332747  0.02939986] 1 False\n",
      "[0.49255228 0.29390111 0.24255228 0.04390111] 2 False\n",
      "[0.44436228 0.24842059 0.24526176 0.04932007] 3 False\n",
      "[0.45718966 0.25479991 0.25159997 0.06214745] 4 False\n",
      "[0.35627209 0.34124901 0.15875099 0.14372791] 5 True\n",
      "\u001b[1;2;32m--> polytope contain coordinate. Predicted \u001b[1;3;34m[0.35627209 0.34124901 0.15875099 0.14372791]\u001b[0;2;32m and assumed \u001b[1;3;34m[0.3385 0.3385 0.151  0.138 ]\u001b[0;2;32m. Error: \u001b[1;3;34m[0.04061893 0.0298067  0.0298067  0.04061893]\u001b[0m\n",
      "[0.3658238  0.34778784 0.17810556 0.14046386] 6 False\n",
      "[0.36135638 0.31858638 0.1506706  0.13374678] 7 False\n",
      "[0.37907362 0.31573251 0.16154531 0.13455943] 8 False\n",
      "[0.37943626 0.3127084  0.1557103  0.13762936] 9 False\n",
      "[0.37921177 0.33809493 0.16284651 0.15520621] 10 False\n",
      "[0.41435917 0.38811972 0.11188028 0.08564083] 11 False\n",
      "[0.35828597 0.30725284 0.14583333 0.12090048] 12 False\n",
      "[0.36559798 0.33797421 0.18490391 0.12086812] 13 False\n",
      "[0.42958478 0.37078823 0.11240675 0.08722024] 14 False\n",
      "[0.35995264 0.28508957 0.12342059 0.12026176] 15 False\n",
      "[0.40079518 0.35614597 0.15079518 0.10390823] 16 False\n",
      "[0.39907178 0.35021167 0.14907178 0.10021167] 17 False\n",
      "[0.41277976 0.38759325 0.12921177 0.07041522] 18 False\n"
     ]
    }
   ],
   "source": [
    "for jj, i in enumerate(solution[-1]):\n",
    "    xg = np.mean(pc.extreme(i), axis=0)\n",
    "    print(xg, jj, coordinate in i)\n",
    "    if coordinate in i:\n",
    "        extremepnts = pc.extreme(i)\n",
    "        dmax = np.max(extremepnts, axis=0)\n",
    "        dmin = np.min(extremepnts, axis=0)\n",
    "        err  = np.abs(dmax-dmin)/1\n",
    "        print(f\"\\x1b[1;2;32m--> polytope contain coordinate. Predicted \\x1b[1;3;34m{xg}\\x1b[0;2;32m and assumed \\x1b[1;3;34m{coordinate}\\x1b[0;2;32m. Error: \\x1b[1;3;34m{err}\\x1b[0m\" )\n"
   ]
  }
 ],
 "metadata": {
  "kernelspec": {
   "display_name": "Python 3",
   "language": "python",
   "name": "python3"
  },
  "language_info": {
   "codemirror_mode": {
    "name": "ipython",
    "version": 3
   },
   "file_extension": ".py",
   "mimetype": "text/x-python",
   "name": "python",
   "nbconvert_exporter": "python",
   "pygments_lexer": "ipython3",
   "version": "3.12.5"
  }
 },
 "nbformat": 4,
 "nbformat_minor": 2
}
