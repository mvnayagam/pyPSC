{
 "cells": [
  {
   "cell_type": "markdown",
   "metadata": {
    "slideshow": {
     "slide_type": "slide"
    }
   },
   "source": [
    "# <font color = 'blue'> Parameter Space Concept\n",
    "    method to structure prediction using linear approximation"
   ]
  },
  {
   "cell_type": "markdown",
   "metadata": {},
   "source": [
    "### <font color = 'green'> **Importing modules**"
   ]
  },
  {
   "cell_type": "code",
   "execution_count": 1,
   "metadata": {},
   "outputs": [],
   "source": [
    "%matplotlib widget\n",
    "\n",
    "import warnings\n",
    "warnings.filterwarnings('ignore')\n",
    "\n",
    "import os\n",
    "import time\n",
    "import numpy as np\n",
    "import polytope as pc\n",
    "\n",
    "\n",
    "from psc.lib.g_space import g\n",
    "\n",
    "from psc.lib.x3Dlinearizazion import linearizenD_EPA\n",
    "from psc.lib.x3Drepetition import getpolytope_EPA  \n",
    "from psc.lib.x3Dchecklinearization import checklinear\n",
    "from psc.lib.x3Dintersection import find_intersection\n",
    "from psc.lib.x3Dreadwrite import wrtdata\n",
    "\n"
   ]
  },
  {
   "cell_type": "markdown",
   "metadata": {},
   "source": [
    "### <font color = 'green'> **Example coordinate**"
   ]
  },
  {
   "cell_type": "markdown",
   "metadata": {},
   "source": [
    "#### Linearization"
   ]
  },
  {
   "cell_type": "code",
   "execution_count": 3,
   "metadata": {},
   "outputs": [
    {
     "name": "stdout",
     "output_type": "stream",
     "text": [
      "Assumed coordinate :  [0.3385 0.3385 0.151  0.138 ]\n",
      "\u001b[1;32m--> Polytope contains complete isosurface. Successful Linearization for \u001b[1;31mRO = 1\u001b[0m\n",
      "===> Time taken for RO 1 is 0.0466303825378418\n",
      "\u001b[1;32m--> Polytope contains complete isosurface. Successful Linearization for \u001b[1;31mRO = 1\u001b[0m\n",
      "\u001b[1;32m--> Polytope contains complete isosurface. Successful Linearization for \u001b[1;31mRO = 2\u001b[0m\n",
      "===> Time taken for RO 2 is 0.9002726078033447\n",
      "\u001b[1;32m--> Polytope contains complete isosurface. Successful Linearization for \u001b[1;31mRO = 2\u001b[0m\n",
      "\u001b[1;32m--> Polytope contains complete isosurface. Successful Linearization for \u001b[1;31mRO = 3\u001b[0m\n",
      "===> Time taken for RO 3 is 2.0270841121673584\n",
      "\u001b[1;32m--> Polytope contains complete isosurface. Successful Linearization for \u001b[1;31mRO = 3\u001b[0m\n",
      "isotype 1\n",
      "===> Time taken for RO 4 is 5.513397216796875\n",
      "\u001b[1;32m--> Polytope contains complete isosurface. Successful Linearization for \u001b[1;31mRO = 4\u001b[0m\n"
     ]
    }
   ],
   "source": [
    "# ------------------------------------------------------------------------------------------------\n",
    "# --->  Generate required information such as atomic coordinate to be solved\n",
    "#       artificial atomic scattering factors. 'j' fixes the direction of third atomic coordinate\n",
    "# ------------------------------------------------------------------------------------------------\n",
    "\n",
    "coordinate = np.array([0.349, 0.362, 0.1615, 0.1615])\n",
    "f    = [1.0]*len(coordinate)\n",
    "j    = len(coordinate)-1\n",
    "\n",
    "\n",
    "# ------------------------------------------------------------------------------------------------\n",
    "# ---> Apply origin fixing rule. The origin is always fixed at [0, 0, ....]\n",
    "# ------------------------------------------------------------------------------------------------\n",
    "l = 1\n",
    "coordinate = np.sort(coordinate)[::-1]  if (np.sign(g(l, coordinate, f))>0) else np.sort(0.5-coordinate)[::-1]\n",
    "\n",
    "# ------------------------------------------------------------------------------------------------\n",
    "# ---> Start to solve given atomic structure using first 4 number of reflections\n",
    "# ------------------------------------------------------------------------------------------------\n",
    "\n",
    "h  = 4\n",
    "info, plist = [], []\n",
    "IorG='intensity'\n",
    "print(\"Assumed coordinate : \", coordinate)\n",
    "\n",
    "for l in range(1,h+1):\n",
    "        \n",
    "    # ===> 1. initilization\n",
    "    k  = 2*np.pi*l\n",
    "    gi = np.abs(g(l, coordinate, f))\n",
    "    amplitudesign = np.sign(g(l, coordinate, f))\n",
    "    \n",
    "    # ===> 2. linearization\n",
    "    normal, distance, boundarypoints = linearizenD_EPA(l, f, gi)\n",
    "    \n",
    "    ST = time.time()\n",
    "    # ===> 3. get all polytope\n",
    "    p = getpolytope_EPA( l, normal, distance, amplitudesign, IorG, imax=0.5)\n",
    "    plist.append(p)\n",
    "    ET = time.time()\n",
    "    print(f'===> Time taken for RO {l} is {ET-ST}')\n",
    "    info.append([l, normal, distance])\n",
    "    \n",
    "    # ===> 4. check linearization\n",
    "    checklinear(l, f, gi, normal, distance, j=len(f)-1, n=50, s=1, testiso=True)\n",
    "###\n"
   ]
  },
  {
   "cell_type": "markdown",
   "metadata": {},
   "source": [
    "#### Finding intersection"
   ]
  },
  {
   "cell_type": "code",
   "execution_count": 4,
   "metadata": {},
   "outputs": [
    {
     "name": "stdout",
     "output_type": "stream",
     "text": [
      "===> RO is  1  The len of polytope region before reduction :  1  after reduction : 1 1\n",
      "===> RO is  2  The len of polytope region before reduction :  32  after reduction : 10 2\n",
      "===> RO is  3  The len of polytope region before reduction :  162  after reduction : 30 3\n",
      "===> RO is  4  The len of polytope region before reduction :  512  after reduction : 70 4\n",
      "\u001b[0;32m===> intersection for RO : 1   \u001b[0mlen(solution) : 1 and container len 1\n",
      "\u001b[0;32m===> intersection for RO : 2   \u001b[0mlen(solution) : 5 and container len 2\n",
      "\u001b[0;32m===> intersection for RO : 3   \u001b[0mlen(solution) : 31 and container len 3\n",
      "\u001b[0;32m===> intersection for RO : 4   \u001b[0mlen(solution) : 19 and container len 4\n",
      "\n",
      "===>\u001b[1;31m Variable \u001b[1;3;32msolution\u001b[0m\u001b[1;31m contains the intersection results\n"
     ]
    }
   ],
   "source": [
    "'''\n",
    "Defining Asym and reduce no. of polytopes in the polytope list for each reflection order\n",
    "condition: the polytope list must contain first order reflection info.\n",
    "\n",
    "what if it is starts with other reflection order ? <- yet to solve\n",
    "'''\n",
    "\n",
    "# Reducing the polytopes\n",
    "\n",
    "temp = np.tril(np.ones(shape=(len(f), len(f))) , 0 )\n",
    "temp = 0.5*np.vstack([[0]*len(normal), temp])\n",
    "asym = pc.qhull(np.array(temp))\n",
    "\n",
    "plistr=[]\n",
    "for i in range(len(plist)):\n",
    "    r = []\n",
    "    for ij in plist[i]:\n",
    "        if ij.intersect(asym):\n",
    "            r.append(ij)\n",
    "    plistr.append(r)\n",
    "    print(\"===> RO is \",i+1,\" The len of polytope region before reduction : \",len(plist[i]),\" after reduction :\", len(r), len(plistr))\n",
    "\n",
    "\n",
    "# finding intersection\n",
    "\n",
    "solution = []\n",
    "for inx, ply in enumerate(plistr):\n",
    "    print(\"\\x1b[0;32m===> intersection for RO : %g\"%(inx+1), end=\"   \\x1b[0m\")\n",
    "    if inx==0:\n",
    "        sf = pc.Region([asym.intersect(ply[0])]) # plistr[inx][0] = ply[0]\n",
    "        solution.append(sf)\n",
    "        print(f\"len(solution) : {len(sf)} and container len {len(solution)}\")\n",
    "    else:\n",
    "        tmp= find_intersection(solution[-1], pc.Region(ply))\n",
    "        solution.append(tmp)\n",
    "        print(f\"len(solution) : {len(tmp)} and container len {len(solution)}\")\n",
    "\n",
    "print(\"\\n===>\\x1b[1;31m Variable \\x1b[1;3;32msolution\\x1b[0m\\x1b[1;31m contains the intersection results\")"
   ]
  },
  {
   "cell_type": "markdown",
   "metadata": {},
   "source": [
    "#### Writing dat in h5 file"
   ]
  },
  {
   "cell_type": "code",
   "execution_count": 11,
   "metadata": {},
   "outputs": [],
   "source": [
    "'''\n",
    "This section creates hdf file and writes the available information. Current stand takes only one\n",
    "solution. another for loop is to be added if all RO intersection information is to be written.\n",
    "'''\n",
    "\n",
    "# creating file and writing information ! <-- variable names should be regularized, not compatible with readwrite.py\n",
    "\n",
    "fpath   = os.path.join(os.getcwd())\n",
    "fn = os.path.join(fpath,'resultfile_%g.h5'%(h))\n",
    "\n",
    "if os.path.isfile(fn):\n",
    "    os.remove(fn)\n",
    "    print(f\"===> removed file {fn}\")\n",
    "\n",
    "for jj, i in enumerate(solution[-1]):\n",
    "    if coordinate in i:\n",
    "        rc = 0\n",
    "        xg = np.mean(pc.extreme(i), axis=0)\n",
    "        volume = pc.volume(i)\n",
    "        \n",
    "        extremepnts = pc.extreme(i)\n",
    "        dmax = np.max(extremepnts, axis=0)\n",
    "        dmin = np.min(extremepnts, axis=0)\n",
    "        err  = np.abs(dmax-dmin)/2\n",
    "        final = i\n",
    "        \n",
    "        volAsym = volume\n",
    "        Lsol=len(solution[-1])\n",
    "        \n",
    "        wrtdata(fn, rc, volume, err, final, extremepnts, volAsym, Lsol)\n"
   ]
  },
  {
   "cell_type": "markdown",
   "metadata": {},
   "source": [
    "#### Printing centroid of all possible solution region"
   ]
  },
  {
   "cell_type": "code",
   "execution_count": 5,
   "metadata": {},
   "outputs": [
    {
     "name": "stdout",
     "output_type": "stream",
     "text": [
      "[0.33082 0.32578 0.17845 0.17059] 0 False\n",
      "[0.3213  0.29723 0.15614 0.13508] 1 False\n",
      "[0.32325 0.30309 0.17606 0.13384] 2 False\n",
      "[0.35425 0.32245 0.18358 0.1723 ] 3 False\n",
      "[0.3623  0.248   0.14831 0.11161] 4 False\n",
      "[0.35502 0.28614 0.15396 0.12856] 5 False\n",
      "[0.48527 0.29222 0.11991 0.0359 ] 6 False\n",
      "[0.37624 0.2885  0.19606 0.11928] 7 False\n",
      "[0.37938 0.24009 0.20243 0.08249] 8 False\n",
      "[0.43361 0.26129 0.25376 0.09429] 9 False\n",
      "[0.49067 0.31948 0.18035 0.02123] 10 False\n",
      "[0.32329 0.30321 0.15366 0.12765] 11 False\n",
      "[0.34974 0.3388  0.15823 0.14137] 12 True\n",
      "\u001b[1;2;32m--> polytope contain coordinate. Predicted \u001b[1;3;34m[0.34974 0.3388  0.15823 0.14137]\u001b[0;2;32m and assumed \u001b[1;3;34m[0.3385 0.3385 0.151  0.138 ]\u001b[0;2;32m. Error: \u001b[1;3;34m[0.04678 0.02339 0.02981 0.05961]\u001b[0m\n",
      "[0.45417 0.36627 0.12883 0.03942] 13 False\n",
      "[0.34894 0.30375 0.15235 0.12371] 14 False\n",
      "[0.47976 0.30669 0.11373 0.0311 ] 15 False\n",
      "[0.32296 0.30222 0.17755 0.12681] 16 False\n",
      "[0.35414 0.34027 0.18889 0.14604] 17 False\n",
      "[0.45919 0.36614 0.18567 0.01478] 18 False\n",
      "[0.36924 0.29282 0.20038 0.11228] 19 False\n",
      "[0.38046 0.23992 0.21976 0.06639] 20 False\n",
      "[0.42077 0.26771 0.2559  0.09001] 21 False\n",
      "[0.48614 0.32401 0.1879  0.01368] 22 False\n",
      "[0.34743 0.33803 0.18528 0.17287] 23 False\n",
      "[0.34867 0.32394 0.1838  0.17238] 24 False\n",
      "[0.32941 0.32155 0.17422 0.16918] 25 False\n",
      "[0.35486 0.34051 0.17931 0.17088] 26 False\n",
      "[0.36292 0.34319 0.17843 0.15106] 27 False\n",
      "[0.46445 0.37556 0.1775  0.01959] 28 False\n",
      "[0.35863 0.34177 0.1612  0.15026] 29 False\n",
      "[0.46058 0.37117 0.13373 0.04583] 30 False\n"
     ]
    }
   ],
   "source": [
    "for jj, i in enumerate(solution[-2]):\n",
    "    xg = np.mean(pc.extreme(i), axis=0)\n",
    "    print(xg, jj, coordinate in i)\n",
    "    if coordinate in i:\n",
    "        extremepnts = pc.extreme(i)\n",
    "        dmax = np.max(extremepnts, axis=0)\n",
    "        dmin = np.min(extremepnts, axis=0)\n",
    "        err  = np.abs(dmax-dmin)/1\n",
    "        print(f\"\\x1b[1;2;32m--> polytope contain coordinate. Predicted \\x1b[1;3;34m{xg}\\x1b[0;2;32m and assumed \\x1b[1;3;34m{coordinate}\\x1b[0;2;32m. Error: \\x1b[1;3;34m{err}\\x1b[0m\" )\n"
   ]
  }
 ],
 "metadata": {
  "kernelspec": {
   "display_name": "Python 3",
   "language": "python",
   "name": "python3"
  },
  "language_info": {
   "codemirror_mode": {
    "name": "ipython",
    "version": 3
   },
   "file_extension": ".py",
   "mimetype": "text/x-python",
   "name": "python",
   "nbconvert_exporter": "python",
   "pygments_lexer": "ipython3",
   "version": "3.12.5"
  }
 },
 "nbformat": 4,
 "nbformat_minor": 2
}
