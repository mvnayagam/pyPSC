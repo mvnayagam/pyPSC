{
 "cells": [
  {
   "cell_type": "markdown",
   "metadata": {
    "slideshow": {
     "slide_type": "slide"
    }
   },
   "source": [
    "# <font color = 'blue'> Parameter Space Concept\n",
    "    method to structure prediction using linear approximation"
   ]
  },
  {
   "cell_type": "markdown",
   "metadata": {},
   "source": [
    "### <font color = 'green'> **Importing modules**"
   ]
  },
  {
   "cell_type": "code",
   "execution_count": 1,
   "metadata": {},
   "outputs": [],
   "source": [
    "%matplotlib widget\n",
    "\n",
    "import warnings\n",
    "warnings.filterwarnings('ignore')\n",
    "\n",
    "import os\n",
    "import time\n",
    "import numpy as np\n",
    "import polytope as pc\n",
    "\n",
    "from corporate_design import set_layout\n",
    "#set_layout(layout_type='text', size=80, size_unit='mm', fontfamily='serif', latex=False)\n",
    "set_layout(layout_type='text', size=80, size_unit='mm', latex=False)\n",
    "\n",
    "from psc.g_space import g\n",
    "\n",
    "from psc.x3Dlinearizazion import linearnD_EPA\n",
    "from psc.x3Drepetition import getpolytope_EPA  \n",
    "from psc.x3Dchecklinearization import checklinear\n",
    "from psc.x3Dintersection import find_intersection\n",
    "from psc.x3Dreadwrite import wrtdata\n",
    "\n"
   ]
  },
  {
   "cell_type": "markdown",
   "metadata": {},
   "source": [
    "### <font color = 'green'> **Example coordinate**"
   ]
  },
  {
   "cell_type": "markdown",
   "metadata": {},
   "source": [
    "#### Linearization"
   ]
  },
  {
   "cell_type": "code",
   "execution_count": 4,
   "metadata": {},
   "outputs": [
    {
     "name": "stdout",
     "output_type": "stream",
     "text": [
      "Assumed coordinate :  [0.3385 0.3385 0.151  0.138 ]\n",
      "===> Time taken for RO 1 is 0.07980108261108398\n",
      "\u001b[1;32m--> Polytope contains complete isosurface. Successful Linearization for \u001b[1;31mRO = 1\u001b[0m\n",
      "===> Time taken for RO 2 is 1.3529856204986572\n",
      "\u001b[1;32m--> Polytope contains complete isosurface. Successful Linearization for \u001b[1;31mRO = 2\u001b[0m\n",
      "===> Time taken for RO 3 is 2.025021553039551\n",
      "\u001b[1;32m--> Polytope contains complete isosurface. Successful Linearization for \u001b[1;31mRO = 3\u001b[0m\n",
      "===> Time taken for RO 4 is 6.87996506690979\n",
      "\u001b[1;32m--> Polytope contains complete isosurface. Successful Linearization for \u001b[1;31mRO = 4\u001b[0m\n"
     ]
    }
   ],
   "source": [
    "coordinate = np.array([0.349, 0.362, 0.1615, 0.1615])\n",
    "f    = [1.0]*len(coordinate)\n",
    "j    = len(coordinate)-1\n",
    "\n",
    "ll = 1;  coordinate = np.sort(coordinate)[::-1]  if (np.sign(g(ll, coordinate, f))>0) else np.sort(0.5-coordinate)[::-1]\n",
    "\n",
    "h  = 4\n",
    "info, plist = [], []\n",
    "IorG='intensity'\n",
    "print(\"Assumed coordinate : \", coordinate)\n",
    "\n",
    "for l in range(1,h+1):\n",
    "        \n",
    "    # ===> 1. initilization\n",
    "    k  = 2*np.pi*l    \n",
    "    gi = np.abs(g(l, coordinate, f))\n",
    "    amplitudesign = np.sign(g(l, coordinate, f))\n",
    "    \n",
    "    # ===> 2. linearization\n",
    "    normal, d_all = linearnD_EPA(l, coordinate, f, gi)\n",
    "    \n",
    "    ST = time.time()\n",
    "    # ===> 3. get all polytope\n",
    "    p = getpolytope_EPA( l, normal, d_all, amplitudesign, IorG, imax=0.5)\n",
    "    plist.append(p)\n",
    "    ET = time.time()\n",
    "    print(f'===> Time taken for RO {l} is {ET-ST}')\n",
    "    info.append([l, normal, d_all])\n",
    "    \n",
    "    # ===> 4. check linearization\n",
    "    checklinear(l, coordinate, f, normal, d_all, j=len(f)-1,n=100, s=1, testiso=True)\n",
    "###\n"
   ]
  },
  {
   "cell_type": "markdown",
   "metadata": {},
   "source": [
    "#### Finding intersection"
   ]
  },
  {
   "cell_type": "code",
   "execution_count": 6,
   "metadata": {},
   "outputs": [
    {
     "name": "stdout",
     "output_type": "stream",
     "text": [
      "===> RO is  1  The len of polytope region before reduction :  1  after reduction : 1 1\n",
      "===> RO is  2  The len of polytope region before reduction :  32  after reduction : 10 2\n",
      "===> RO is  3  The len of polytope region before reduction :  162  after reduction : 30 3\n",
      "===> RO is  4  The len of polytope region before reduction :  512  after reduction : 70 4\n",
      "\u001b[0;32m===> intersection for RO : 1   \u001b[0mlen(solution) : 1 and container len 1\n",
      "\u001b[0;32m===> intersection for RO : 2   \u001b[0mlen(solution) : 5 and container len 2\n",
      "\u001b[0;32m===> intersection for RO : 3   \u001b[0mlen(solution) : 28 and container len 3\n",
      "\u001b[0;32m===> intersection for RO : 4   \u001b[0mlen(solution) : 26 and container len 4\n",
      "\n",
      "===>\u001b[1;31m Variable \u001b[1;3;32msolution\u001b[0m\u001b[1;31m contains the intersection results\n"
     ]
    }
   ],
   "source": [
    "'''\n",
    "Defining Asym and reduce no. of polytopes in the polytope list for each reflection order\n",
    "condition: the polytope list must contain first order reflection info.\n",
    "\n",
    "what if it is starts with other reflection order ? <- yet to solve\n",
    "'''\n",
    "\n",
    "# Reducing the polytopes\n",
    "\n",
    "temp = np.tril(np.ones(shape=(len(f), len(f))) , 0 )\n",
    "temp = 0.5*np.vstack([[0]*len(normal), temp])\n",
    "asym = pc.qhull(np.array(temp))\n",
    "\n",
    "plistr=[]\n",
    "for i in range(len(plist)):\n",
    "    r = []\n",
    "    for ij in plist[i]:\n",
    "        if ij.intersect(asym):\n",
    "            r.append(ij)\n",
    "    plistr.append(r)\n",
    "    print(\"===> RO is \",i+1,\" The len of polytope region before reduction : \",len(plist[i]),\" after reduction :\", len(r), len(plistr))\n",
    "\n",
    "\n",
    "# finding intersection\n",
    "\n",
    "solution = []\n",
    "for inx, ply in enumerate(plistr):\n",
    "    print(\"\\x1b[0;32m===> intersection for RO : %g\"%(inx+1), end=\"   \\x1b[0m\")\n",
    "    if inx==0:\n",
    "        sf = pc.Region([asym.intersect(ply[0])]) # plistr[inx][0] = ply[0]\n",
    "        solution.append(sf)\n",
    "        print(f\"len(solution) : {len(sf)} and container len {len(solution)}\")\n",
    "    else:\n",
    "        tmp= find_intersection(solution[-1], pc.Region(ply))\n",
    "        solution.append(tmp)\n",
    "        print(f\"len(solution) : {len(tmp)} and container len {len(solution)}\")\n",
    "\n",
    "print(\"\\n===>\\x1b[1;31m Variable \\x1b[1;3;32msolution\\x1b[0m\\x1b[1;31m contains the intersection results\")"
   ]
  },
  {
   "cell_type": "markdown",
   "metadata": {},
   "source": [
    "#### Writing dat in h5 file"
   ]
  },
  {
   "cell_type": "code",
   "execution_count": 11,
   "metadata": {},
   "outputs": [],
   "source": [
    "'''\n",
    "This section creates hdf file and writes the available information. Current stand takes only one\n",
    "solution. another for loop is to be added if all RO intersection information is to be written.\n",
    "'''\n",
    "\n",
    "# creating file and writing information ! <-- variable names should be regularized, not compatible with readwrite.py\n",
    "\n",
    "fpath   = os.path.join(os.getcwd())\n",
    "fn = os.path.join(fpath,'zfile_%g.h5'%(h))\n",
    "\n",
    "if os.path.isfile(fn):\n",
    "    os.remove(fn)\n",
    "    print(f\"===> removed file {fn}\")\n",
    "\n",
    "for jj, i in enumerate(solution[-1]):\n",
    "    if coordinate in i:\n",
    "        rc = 0\n",
    "        xg = np.mean(pc.extreme(i), axis=0)\n",
    "        volume = pc.volume(i)\n",
    "        \n",
    "        extremepnts = pc.extreme(i)\n",
    "        dmax = np.max(extremepnts, axis=0)\n",
    "        dmin = np.min(extremepnts, axis=0)\n",
    "        err  = np.abs(dmax-dmin)/2\n",
    "        final = i\n",
    "        \n",
    "        volAsym = volume\n",
    "        Lsol=len(solution[-1])\n",
    "        \n",
    "        wrtdata(fn, rc, volume, err, final, extremepnts, volAsym, Lsol)\n"
   ]
  },
  {
   "cell_type": "markdown",
   "metadata": {},
   "source": [
    "#### Printing centroid of all possible solution region"
   ]
  },
  {
   "cell_type": "code",
   "execution_count": 13,
   "metadata": {},
   "outputs": [
    {
     "name": "stdout",
     "output_type": "stream",
     "text": [
      "[0.32491 0.30806 0.15431 0.1296 ] 0 False\n",
      "[0.32481 0.30776 0.16783 0.11686] 1 False\n",
      "[0.37126 0.32886 0.17588 0.16974] 2 False\n",
      "[0.35549 0.30357 0.15514 0.13209] 3 False\n",
      "[0.48399 0.30366 0.12629 0.03623] 4 False\n",
      "[0.40102 0.23944 0.21831 0.06666] 5 False\n",
      "[0.38447 0.29306 0.19465 0.11192] 6 False\n",
      "[0.44327 0.26202 0.25401 0.08268] 7 False\n",
      "[0.49117 0.32153 0.17949 0.01779] 8 False\n",
      "[0.32573 0.31054 0.15266 0.12464] 9 False\n",
      "[0.34934 0.30782 0.15396 0.12854] 10 False\n",
      "[0.47788 0.30824 0.12438 0.03356] 11 False\n",
      "[0.34836 0.33834 0.1598  0.14606] 12 True\n",
      "\u001b[1;2;32m--> polytope contain coordinate. Predicted \u001b[1;3;34m[0.34836 0.33834 0.1598  0.14606]\u001b[0;2;32m and assumed \u001b[1;3;34m[0.3385 0.3385 0.151  0.138 ]\u001b[0;2;32m. Error: \u001b[1;3;34m[0.04678 0.02339 0.02835 0.0567 ]\u001b[0m\n",
      "[0.44848 0.36284 0.13426 0.04614] 13 False\n",
      "[0.32536 0.30942 0.17114 0.10914] 14 False\n",
      "[0.39771 0.24109 0.22328 0.05673] 15 False\n",
      "[0.37889 0.29616 0.19775 0.10634] 16 False\n",
      "[0.43334 0.26698 0.25566 0.07937] 17 False\n",
      "[0.48819 0.3245  0.18445 0.01282] 18 False\n",
      "[0.35741 0.34136 0.18243 0.14451] 19 False\n",
      "[0.46032 0.36585 0.18441 0.01539] 20 False\n",
      "[0.36353 0.33217 0.17753 0.17029] 21 False\n",
      "[0.35569 0.34079 0.17724 0.17019] 22 False\n",
      "[0.36066 0.34244 0.17476 0.16936] 23 False\n",
      "[0.35394 0.3402  0.16166 0.15164] 24 False\n",
      "[0.45386 0.36574 0.13716 0.05152] 25 False\n",
      "[0.36095 0.34254 0.17817 0.15066] 26 False\n",
      "[0.46299 0.36776 0.17982 0.0215 ] 27 False\n"
     ]
    }
   ],
   "source": [
    "for jj, i in enumerate(solution[-2]):\n",
    "    xg = np.mean(pc.extreme(i), axis=0)\n",
    "    print(xg, jj, coordinate in i)\n",
    "    if coordinate in i:\n",
    "        extremepnts = pc.extreme(i)\n",
    "        dmax = np.max(extremepnts, axis=0)\n",
    "        dmin = np.min(extremepnts, axis=0)\n",
    "        err  = np.abs(dmax-dmin)/1\n",
    "        print(f\"\\x1b[1;2;32m--> polytope contain coordinate. Predicted \\x1b[1;3;34m{xg}\\x1b[0;2;32m and assumed \\x1b[1;3;34m{coordinate}\\x1b[0;2;32m. Error: \\x1b[1;3;34m{err}\\x1b[0m\" )\n"
   ]
  }
 ],
 "metadata": {
  "kernelspec": {
   "display_name": "Python 3 (ipykernel)",
   "language": "python",
   "name": "python3"
  },
  "language_info": {
   "codemirror_mode": {
    "name": "ipython",
    "version": 3
   },
   "file_extension": ".py",
   "mimetype": "text/x-python",
   "name": "python",
   "nbconvert_exporter": "python",
   "pygments_lexer": "ipython3",
   "version": "3.9.5"
  }
 },
 "nbformat": 4,
 "nbformat_minor": 2
}
